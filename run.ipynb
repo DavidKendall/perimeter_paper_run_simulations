{
 "cells": [
  {
   "cell_type": "code",
   "execution_count": null,
   "id": "17f40c1a-37d4-4e05-aaf1-01ccbe14ec20",
   "metadata": {},
   "outputs": [],
   "source": [
    "%%shell\n",
    "set -e\n",
    "\n",
    "#---------------------------------------------------#\n",
    "JULIA_VERSION=\"1.8.5\" \n",
    "JULIA_PACKAGES=\"IJulia Plots PyPlot JSON BenchmarkTools\"\n",
    "JULIA_PACKAGES_IF_GPU=\"CUDA\" # or CuArrays for older Julia versions\n",
    "JULIA_NUM_THREADS=2\n",
    "#---------------------------------------------------#\n",
    "\n",
    "# Install Julia\n",
    "JULIA_VER=`cut -d '.' -f -2 <<< \"$JULIA_VERSION\"`\n",
    "echo \"Installing Julia $JULIA_VERSION on the current Colab Runtime...\"\n",
    "BASE_URL=\"https://julialang-s3.julialang.org/bin/linux/x64\"\n",
    "URL=\"$BASE_URL/$JULIA_VER/julia-$JULIA_VERSION-linux-x86_64.tar.gz\"\n",
    "wget -nv $URL -O /tmp/julia.tar.gz # -nv means \"not verbose\"\n",
    "tar -x -f /tmp/julia.tar.gz -C /usr/local --strip-components 1\n",
    "rm /tmp/julia.tar.gz\n",
    "echo \"Julia installation complete\"\n",
    "\n",
    "# Install Packages\n",
    "echo \"Installing packages...\"\n",
    "if [ \"$COLAB_GPU\" = \"1\" ]; then\n",
    "  JULIA_PACKAGES=\"$JULIA_PACKAGES $JULIA_PACKAGES_IF_GPU\"\n",
    "fi\n",
    "for PKG in `echo $JULIA_PACKAGES`; do\n",
    "echo \"Installing Julia package $PKG...\"\n",
    "julia -e 'using Pkg; pkg\"add '$PKG'; precompile;\"' &> /dev/null\n",
    "done\n",
    "echo \"Package installation complete\"\n",
    "\n",
    "# Install kernel and rename it to \"julia\"\n",
    "echo \"Installing IJulia kernel...\"\n",
    "julia -e 'using IJulia; IJulia.installkernel(\"julia\", env=Dict(\n",
    "  \"JULIA_NUM_THREADS\"=>\"'\"$JULIA_NUM_THREADS\"'\"))'\n",
    "KERNEL_DIR=`julia -e \"using IJulia; print(IJulia.kerneldir())\"`\n",
    "KERNEL_NAME=`ls -d \"$KERNEL_DIR\"/julia*`\n",
    "mv -f $KERNEL_NAME \"$KERNEL_DIR\"/julia  \n",
    "\n",
    "# Upload repository\n",
    "echo \"Uploading repository...\"\n",
    "git clone https://github.com/DavidKendall/perimeter_paper_run_simulations /content/sim\n",
    "echo \"Upload complete\"\n",
    "\n",
    "# Run eswa.ipynb\n",
    "echo \"Running notebook... get a coffee\"\n",
    "jupyter nbconvert \\\n",
    "\t--to 'html' \\\n",
    "\t--ExecutePreprocessor.allow_errors=True \\\n",
    "\t--ExecutePreprocessor.timeout=-1 \\\n",
    "\t--FilesWriter.build_directory=../results \\\n",
    "\t--execute /content/code/eswa.ipynb"
   ]
  }
 ],
 "metadata": {
  "kernelspec": {
   "display_name": "Python 3 (ipykernel)",
   "language": "python",
   "name": "python3"
  },
  "language_info": {
   "codemirror_mode": {
    "name": "ipython",
    "version": 3
   },
   "file_extension": ".py",
   "mimetype": "text/x-python",
   "name": "python",
   "nbconvert_exporter": "python",
   "pygments_lexer": "ipython3",
   "version": "3.8.3"
  }
 },
 "nbformat": 4,
 "nbformat_minor": 5
}
